{
  "nbformat": 4,
  "nbformat_minor": 0,
  "metadata": {
    "colab": {
      "name": "numerical_operations_on_array.ipynb",
      "provenance": [],
      "include_colab_link": true
    },
    "kernelspec": {
      "display_name": "Python 3",
      "language": "python",
      "name": "python3"
    }
  },
  "cells": [
    {
      "cell_type": "markdown",
      "metadata": {
        "id": "view-in-github",
        "colab_type": "text"
      },
      "source": [
        "<a href=\"https://colab.research.google.com/github/Sagarranjan007/Numpy/blob/master/numerical_operations_on_array.ipynb\" target=\"_parent\"><img src=\"https://colab.research.google.com/assets/colab-badge.svg\" alt=\"Open In Colab\"/></a>"
      ]
    },
    {
      "cell_type": "code",
      "metadata": {
        "id": "jfJQ0s3bswc_",
        "colab_type": "code",
        "colab": {}
      },
      "source": [
        "import numpy as np"
      ],
      "execution_count": 0,
      "outputs": []
    },
    {
      "cell_type": "markdown",
      "metadata": {
        "id": "jhQnKQ2KswdE",
        "colab_type": "text"
      },
      "source": [
        "# Elementwise Operations"
      ]
    },
    {
      "cell_type": "markdown",
      "metadata": {
        "id": "Wtu7cWpiswdF",
        "colab_type": "text"
      },
      "source": [
        "**1. Basic Operations**"
      ]
    },
    {
      "cell_type": "markdown",
      "metadata": {
        "id": "F-67X08fswdG",
        "colab_type": "text"
      },
      "source": [
        "**with scalars**"
      ]
    },
    {
      "cell_type": "code",
      "metadata": {
        "id": "dVy44XhoswdI",
        "colab_type": "code",
        "outputId": "35f3596a-3039-4a80-fda9-d23125d8bdb5",
        "colab": {
          "base_uri": "https://localhost:8080/",
          "height": 34
        }
      },
      "source": [
        "a = np.array([1, 2, 3, 4]) #create an array\n",
        "\n",
        "a + 1"
      ],
      "execution_count": 2,
      "outputs": [
        {
          "output_type": "execute_result",
          "data": {
            "text/plain": [
              "array([2, 3, 4, 5])"
            ]
          },
          "metadata": {
            "tags": []
          },
          "execution_count": 2
        }
      ]
    },
    {
      "cell_type": "code",
      "metadata": {
        "id": "C3xGq800swdO",
        "colab_type": "code",
        "outputId": "bee77c12-4c5a-437f-acb6-98976466c1fe",
        "colab": {
          "base_uri": "https://localhost:8080/",
          "height": 34
        }
      },
      "source": [
        "a ** 2"
      ],
      "execution_count": 3,
      "outputs": [
        {
          "output_type": "execute_result",
          "data": {
            "text/plain": [
              "array([ 1,  4,  9, 16])"
            ]
          },
          "metadata": {
            "tags": []
          },
          "execution_count": 3
        }
      ]
    },
    {
      "cell_type": "markdown",
      "metadata": {
        "id": "RUCgn5sWswdS",
        "colab_type": "text"
      },
      "source": [
        "**All arithmetic operates elementwise**"
      ]
    },
    {
      "cell_type": "code",
      "metadata": {
        "id": "8PnM4PU7swdT",
        "colab_type": "code",
        "outputId": "61bca3b9-7412-463d-9e4d-52e29654f203",
        "colab": {
          "base_uri": "https://localhost:8080/",
          "height": 34
        }
      },
      "source": [
        "b = np.ones(4) + 1\n",
        "\n",
        "a - b"
      ],
      "execution_count": 4,
      "outputs": [
        {
          "output_type": "execute_result",
          "data": {
            "text/plain": [
              "array([-1.,  0.,  1.,  2.])"
            ]
          },
          "metadata": {
            "tags": []
          },
          "execution_count": 4
        }
      ]
    },
    {
      "cell_type": "code",
      "metadata": {
        "id": "rpXvbqFwswdX",
        "colab_type": "code",
        "outputId": "bf66bced-ec0f-4c47-d8dd-891af54552d2",
        "colab": {
          "base_uri": "https://localhost:8080/",
          "height": 34
        }
      },
      "source": [
        "a * b"
      ],
      "execution_count": 5,
      "outputs": [
        {
          "output_type": "execute_result",
          "data": {
            "text/plain": [
              "array([2., 4., 6., 8.])"
            ]
          },
          "metadata": {
            "tags": []
          },
          "execution_count": 5
        }
      ]
    },
    {
      "cell_type": "code",
      "metadata": {
        "id": "2abVO_V_swdb",
        "colab_type": "code",
        "outputId": "769afda6-1a39-4b09-c2da-dd0bdade1991",
        "colab": {
          "base_uri": "https://localhost:8080/",
          "height": 170
        }
      },
      "source": [
        "# Matrix multiplication\n",
        "\n",
        "c = np.diag([1, 2, 3, 4])\n",
        "\n",
        "print(c * c)\n",
        "print(\"*****************\")\n",
        "print(c.dot(c))"
      ],
      "execution_count": 6,
      "outputs": [
        {
          "output_type": "stream",
          "text": [
            "[[ 1  0  0  0]\n",
            " [ 0  4  0  0]\n",
            " [ 0  0  9  0]\n",
            " [ 0  0  0 16]]\n",
            "*****************\n",
            "[[ 1  0  0  0]\n",
            " [ 0  4  0  0]\n",
            " [ 0  0  9  0]\n",
            " [ 0  0  0 16]]\n"
          ],
          "name": "stdout"
        }
      ]
    },
    {
      "cell_type": "markdown",
      "metadata": {
        "id": "6MBTQgTjgbyn",
        "colab_type": "text"
      },
      "source": [
        "At 4:34 it is mentioned that if a and b are two matrices, then a*b and a.dot(b) are same, which is not true. a*b is just matrix multiplication (element wise) provided both the matrices have same shape. Whereas matrix-matrix multiplication involves dot product (matrices having their shapes reverse of each other)\n",
        "Prev"
      ]
    },
    {
      "cell_type": "markdown",
      "metadata": {
        "id": "WQJuiT1uswdf",
        "colab_type": "text"
      },
      "source": [
        "**comparisions**"
      ]
    },
    {
      "cell_type": "code",
      "metadata": {
        "id": "fjeX-CiOswdg",
        "colab_type": "code",
        "outputId": "7512bec9-2401-4f72-fbba-f81e33b9d9fb",
        "colab": {
          "base_uri": "https://localhost:8080/",
          "height": 34
        }
      },
      "source": [
        "a = np.array([1, 2, 3, 4])\n",
        "b = np.array([5, 2, 2, 4])\n",
        "a == b"
      ],
      "execution_count": 7,
      "outputs": [
        {
          "output_type": "execute_result",
          "data": {
            "text/plain": [
              "array([False,  True, False,  True])"
            ]
          },
          "metadata": {
            "tags": []
          },
          "execution_count": 7
        }
      ]
    },
    {
      "cell_type": "code",
      "metadata": {
        "id": "X8TTJ8A2swdk",
        "colab_type": "code",
        "outputId": "74457861-ddec-4c14-c75e-2e104e10abe7",
        "colab": {
          "base_uri": "https://localhost:8080/",
          "height": 34
        }
      },
      "source": [
        "a > b"
      ],
      "execution_count": 8,
      "outputs": [
        {
          "output_type": "execute_result",
          "data": {
            "text/plain": [
              "array([False, False,  True, False])"
            ]
          },
          "metadata": {
            "tags": []
          },
          "execution_count": 8
        }
      ]
    },
    {
      "cell_type": "code",
      "metadata": {
        "id": "J6VVph4Qswdp",
        "colab_type": "code",
        "outputId": "b9ba3389-d051-43b7-85f2-4d624f90d84b",
        "colab": {
          "base_uri": "https://localhost:8080/",
          "height": 34
        }
      },
      "source": [
        "#array-wise comparisions\n",
        "a = np.array([1, 2, 3, 4])\n",
        "b = np.array([5, 2, 2, 4])\n",
        "c = np.array([1, 2, 3, 4])\n",
        "\n",
        "np.array_equal(a, b)"
      ],
      "execution_count": 9,
      "outputs": [
        {
          "output_type": "execute_result",
          "data": {
            "text/plain": [
              "False"
            ]
          },
          "metadata": {
            "tags": []
          },
          "execution_count": 9
        }
      ]
    },
    {
      "cell_type": "code",
      "metadata": {
        "id": "4WcN5_dEswds",
        "colab_type": "code",
        "outputId": "d57bed94-4933-4367-8297-6d300fb090c6",
        "colab": {
          "base_uri": "https://localhost:8080/",
          "height": 34
        }
      },
      "source": [
        "np.array_equal(a, c)"
      ],
      "execution_count": 10,
      "outputs": [
        {
          "output_type": "execute_result",
          "data": {
            "text/plain": [
              "True"
            ]
          },
          "metadata": {
            "tags": []
          },
          "execution_count": 10
        }
      ]
    },
    {
      "cell_type": "markdown",
      "metadata": {
        "id": "9zENvq0Eswdw",
        "colab_type": "text"
      },
      "source": [
        "**Logical Operations**"
      ]
    },
    {
      "cell_type": "code",
      "metadata": {
        "id": "1jnb4Oyoswdy",
        "colab_type": "code",
        "outputId": "fb303031-ff2c-4c34-d1b9-c6b3a092a489",
        "colab": {
          "base_uri": "https://localhost:8080/",
          "height": 34
        }
      },
      "source": [
        "a = np.array([1, 1, 0, 0], dtype=bool)\n",
        "b = np.array([1, 0, 1, 0], dtype=bool)\n",
        "\n",
        "np.logical_or(a, b)"
      ],
      "execution_count": 11,
      "outputs": [
        {
          "output_type": "execute_result",
          "data": {
            "text/plain": [
              "array([ True,  True,  True, False])"
            ]
          },
          "metadata": {
            "tags": []
          },
          "execution_count": 11
        }
      ]
    },
    {
      "cell_type": "code",
      "metadata": {
        "id": "0Y_BIY2sswd4",
        "colab_type": "code",
        "outputId": "45b0f028-2953-4b41-f524-719fd0739263",
        "colab": {}
      },
      "source": [
        "np.logical_and(a, b)"
      ],
      "execution_count": 0,
      "outputs": [
        {
          "output_type": "execute_result",
          "data": {
            "text/plain": [
              "array([ True, False, False, False], dtype=bool)"
            ]
          },
          "metadata": {
            "tags": []
          },
          "execution_count": 15
        }
      ]
    },
    {
      "cell_type": "markdown",
      "metadata": {
        "id": "TphCEdOgswd_",
        "colab_type": "text"
      },
      "source": [
        "**Transcendental functions:**"
      ]
    },
    {
      "cell_type": "code",
      "metadata": {
        "id": "lRgKTcVYsweA",
        "colab_type": "code",
        "outputId": "1ded0001-2172-4d93-a582-2025330bffb8",
        "colab": {
          "base_uri": "https://localhost:8080/",
          "height": 34
        }
      },
      "source": [
        "a = np.arange(5)\n",
        "\n",
        "np.sin(a)   "
      ],
      "execution_count": 12,
      "outputs": [
        {
          "output_type": "execute_result",
          "data": {
            "text/plain": [
              "array([ 0.        ,  0.84147098,  0.90929743,  0.14112001, -0.7568025 ])"
            ]
          },
          "metadata": {
            "tags": []
          },
          "execution_count": 12
        }
      ]
    },
    {
      "cell_type": "code",
      "metadata": {
        "id": "o2WNaZYTsweG",
        "colab_type": "code",
        "outputId": "5c82b552-dce4-4086-ab89-b5fcc33129d9",
        "colab": {
          "base_uri": "https://localhost:8080/",
          "height": 68
        }
      },
      "source": [
        "np.log(a)"
      ],
      "execution_count": 13,
      "outputs": [
        {
          "output_type": "stream",
          "text": [
            "/usr/local/lib/python3.6/dist-packages/ipykernel_launcher.py:1: RuntimeWarning: divide by zero encountered in log\n",
            "  \"\"\"Entry point for launching an IPython kernel.\n"
          ],
          "name": "stderr"
        },
        {
          "output_type": "execute_result",
          "data": {
            "text/plain": [
              "array([      -inf, 0.        , 0.69314718, 1.09861229, 1.38629436])"
            ]
          },
          "metadata": {
            "tags": []
          },
          "execution_count": 13
        }
      ]
    },
    {
      "cell_type": "code",
      "metadata": {
        "id": "4BqEA2-6sweM",
        "colab_type": "code",
        "outputId": "c9acd5ac-33ab-4085-a907-ad06c0889810",
        "colab": {
          "base_uri": "https://localhost:8080/",
          "height": 34
        }
      },
      "source": [
        "np.exp(a)   #evaluates e^x for each element in a given input"
      ],
      "execution_count": 14,
      "outputs": [
        {
          "output_type": "execute_result",
          "data": {
            "text/plain": [
              "array([ 1.        ,  2.71828183,  7.3890561 , 20.08553692, 54.59815003])"
            ]
          },
          "metadata": {
            "tags": []
          },
          "execution_count": 14
        }
      ]
    },
    {
      "cell_type": "markdown",
      "metadata": {
        "id": "ZTCX8P40sweR",
        "colab_type": "text"
      },
      "source": [
        "**Shape Mismatch**"
      ]
    },
    {
      "cell_type": "code",
      "metadata": {
        "id": "rEWPomresweR",
        "colab_type": "code",
        "outputId": "e14f716b-ce84-4c8b-8f6e-856e0b331d6b",
        "colab": {
          "base_uri": "https://localhost:8080/",
          "height": 198
        }
      },
      "source": [
        "a = np.arange(4)\n",
        "\n",
        "a + np.array([1, 2])"
      ],
      "execution_count": 5,
      "outputs": [
        {
          "output_type": "error",
          "ename": "ValueError",
          "evalue": "ignored",
          "traceback": [
            "\u001b[0;31m---------------------------------------------------------------------------\u001b[0m",
            "\u001b[0;31mValueError\u001b[0m                                Traceback (most recent call last)",
            "\u001b[0;32m<ipython-input-5-9bed92644e4e>\u001b[0m in \u001b[0;36m<module>\u001b[0;34m()\u001b[0m\n\u001b[1;32m      1\u001b[0m \u001b[0ma\u001b[0m \u001b[0;34m=\u001b[0m \u001b[0mnp\u001b[0m\u001b[0;34m.\u001b[0m\u001b[0marange\u001b[0m\u001b[0;34m(\u001b[0m\u001b[0;36m4\u001b[0m\u001b[0;34m)\u001b[0m\u001b[0;34m\u001b[0m\u001b[0;34m\u001b[0m\u001b[0m\n\u001b[1;32m      2\u001b[0m \u001b[0;34m\u001b[0m\u001b[0m\n\u001b[0;32m----> 3\u001b[0;31m \u001b[0ma\u001b[0m \u001b[0;34m+\u001b[0m \u001b[0mnp\u001b[0m\u001b[0;34m.\u001b[0m\u001b[0marray\u001b[0m\u001b[0;34m(\u001b[0m\u001b[0;34m[\u001b[0m\u001b[0;36m1\u001b[0m\u001b[0;34m,\u001b[0m \u001b[0;36m2\u001b[0m\u001b[0;34m]\u001b[0m\u001b[0;34m)\u001b[0m\u001b[0;34m\u001b[0m\u001b[0;34m\u001b[0m\u001b[0m\n\u001b[0m",
            "\u001b[0;31mValueError\u001b[0m: operands could not be broadcast together with shapes (4,) (2,) "
          ]
        }
      ]
    },
    {
      "cell_type": "markdown",
      "metadata": {
        "id": "9pyhkSfQsweW",
        "colab_type": "text"
      },
      "source": [
        "# Basic Reductions"
      ]
    },
    {
      "cell_type": "markdown",
      "metadata": {
        "id": "DHyoVepdsweX",
        "colab_type": "text"
      },
      "source": [
        "**computing sums**"
      ]
    },
    {
      "cell_type": "code",
      "metadata": {
        "id": "8Ed2Id_-sweY",
        "colab_type": "code",
        "outputId": "7df663f2-0185-4bbe-bcee-b6dcb179994f",
        "colab": {
          "base_uri": "https://localhost:8080/",
          "height": 34
        }
      },
      "source": [
        "x = np.array([1, 2, 3, 4])\n",
        "np.sum(x)"
      ],
      "execution_count": 6,
      "outputs": [
        {
          "output_type": "execute_result",
          "data": {
            "text/plain": [
              "10"
            ]
          },
          "metadata": {
            "tags": []
          },
          "execution_count": 6
        }
      ]
    },
    {
      "cell_type": "code",
      "metadata": {
        "id": "zRoRIgZqswed",
        "colab_type": "code",
        "outputId": "3d424fa8-2310-4833-ffab-1d5dcb0fbe68",
        "colab": {
          "base_uri": "https://localhost:8080/",
          "height": 51
        }
      },
      "source": [
        "#sum by rows and by columns\n",
        "\n",
        "x = np.array([[1, 1], [2, 2]])\n",
        "x"
      ],
      "execution_count": 7,
      "outputs": [
        {
          "output_type": "execute_result",
          "data": {
            "text/plain": [
              "array([[1, 1],\n",
              "       [2, 2]])"
            ]
          },
          "metadata": {
            "tags": []
          },
          "execution_count": 7
        }
      ]
    },
    {
      "cell_type": "code",
      "metadata": {
        "id": "_vP6O-E2sweh",
        "colab_type": "code",
        "outputId": "c158d531-4c8b-4f86-ce36-acf859ef8e2b",
        "colab": {
          "base_uri": "https://localhost:8080/",
          "height": 34
        }
      },
      "source": [
        "x.sum(axis=0)   #columns first dimension"
      ],
      "execution_count": 9,
      "outputs": [
        {
          "output_type": "execute_result",
          "data": {
            "text/plain": [
              "array([3, 3])"
            ]
          },
          "metadata": {
            "tags": []
          },
          "execution_count": 9
        }
      ]
    },
    {
      "cell_type": "code",
      "metadata": {
        "id": "Tcuz_6SRswel",
        "colab_type": "code",
        "outputId": "aff2737c-47b5-43cc-c014-a61431151709",
        "colab": {
          "base_uri": "https://localhost:8080/",
          "height": 34
        }
      },
      "source": [
        "x.sum(axis=1)  #rows (second dimension)"
      ],
      "execution_count": 8,
      "outputs": [
        {
          "output_type": "execute_result",
          "data": {
            "text/plain": [
              "array([2, 4])"
            ]
          },
          "metadata": {
            "tags": []
          },
          "execution_count": 8
        }
      ]
    },
    {
      "cell_type": "markdown",
      "metadata": {
        "id": "958ZeK7bsweq",
        "colab_type": "text"
      },
      "source": [
        "**Other reductions**"
      ]
    },
    {
      "cell_type": "code",
      "metadata": {
        "id": "R5zUDMynswer",
        "colab_type": "code",
        "outputId": "0e39bddf-7513-463a-d4bb-539c0d2b1c04",
        "colab": {
          "base_uri": "https://localhost:8080/",
          "height": 34
        }
      },
      "source": [
        "x = np.array([1, 3, 2])\n",
        "x.min()"
      ],
      "execution_count": 10,
      "outputs": [
        {
          "output_type": "execute_result",
          "data": {
            "text/plain": [
              "1"
            ]
          },
          "metadata": {
            "tags": []
          },
          "execution_count": 10
        }
      ]
    },
    {
      "cell_type": "code",
      "metadata": {
        "id": "kZtfLNX3swet",
        "colab_type": "code",
        "outputId": "6905d007-9279-4a60-c4cb-bb5cca4a8159",
        "colab": {
          "base_uri": "https://localhost:8080/",
          "height": 34
        }
      },
      "source": [
        "x.max()"
      ],
      "execution_count": 11,
      "outputs": [
        {
          "output_type": "execute_result",
          "data": {
            "text/plain": [
              "3"
            ]
          },
          "metadata": {
            "tags": []
          },
          "execution_count": 11
        }
      ]
    },
    {
      "cell_type": "code",
      "metadata": {
        "id": "AFmjGkYeswex",
        "colab_type": "code",
        "outputId": "5ee7a18a-1a98-4252-9e94-3a772e628636",
        "colab": {
          "base_uri": "https://localhost:8080/",
          "height": 34
        }
      },
      "source": [
        "x.argmin()# index of minimum element"
      ],
      "execution_count": 12,
      "outputs": [
        {
          "output_type": "execute_result",
          "data": {
            "text/plain": [
              "0"
            ]
          },
          "metadata": {
            "tags": []
          },
          "execution_count": 12
        }
      ]
    },
    {
      "cell_type": "code",
      "metadata": {
        "id": "jZ1Kne4bswe0",
        "colab_type": "code",
        "outputId": "f8ac5b17-b1e2-46fb-c103-de8997fe40b0",
        "colab": {
          "base_uri": "https://localhost:8080/",
          "height": 34
        }
      },
      "source": [
        "x.argmax()# index of maximum element"
      ],
      "execution_count": 13,
      "outputs": [
        {
          "output_type": "execute_result",
          "data": {
            "text/plain": [
              "1"
            ]
          },
          "metadata": {
            "tags": []
          },
          "execution_count": 13
        }
      ]
    },
    {
      "cell_type": "markdown",
      "metadata": {
        "id": "HMjQrI2Xswe6",
        "colab_type": "text"
      },
      "source": [
        "**Logical Operations**"
      ]
    },
    {
      "cell_type": "code",
      "metadata": {
        "id": "yDdavXNvswe7",
        "colab_type": "code",
        "outputId": "e4523f4e-39b5-4d4c-f29e-225700d10221",
        "colab": {
          "base_uri": "https://localhost:8080/",
          "height": 34
        }
      },
      "source": [
        "np.all([True, True, False])"
      ],
      "execution_count": 14,
      "outputs": [
        {
          "output_type": "execute_result",
          "data": {
            "text/plain": [
              "False"
            ]
          },
          "metadata": {
            "tags": []
          },
          "execution_count": 14
        }
      ]
    },
    {
      "cell_type": "code",
      "metadata": {
        "id": "pWQ5lldeswfA",
        "colab_type": "code",
        "outputId": "aff35b51-c0af-4e8a-da21-37cceeda5f3b",
        "colab": {
          "base_uri": "https://localhost:8080/",
          "height": 34
        }
      },
      "source": [
        "np.any([True, False, False])"
      ],
      "execution_count": 16,
      "outputs": [
        {
          "output_type": "execute_result",
          "data": {
            "text/plain": [
              "True"
            ]
          },
          "metadata": {
            "tags": []
          },
          "execution_count": 16
        }
      ]
    },
    {
      "cell_type": "code",
      "metadata": {
        "id": "g7ZIbD4YswfD",
        "colab_type": "code",
        "outputId": "69d8aee9-d867-45cd-919a-c0192249dd91",
        "colab": {
          "base_uri": "https://localhost:8080/",
          "height": 34
        }
      },
      "source": [
        "#Note: can be used for array comparisions\n",
        "a = np.zeros((50, 50))\n",
        "np.any(a != 0)"
      ],
      "execution_count": 17,
      "outputs": [
        {
          "output_type": "execute_result",
          "data": {
            "text/plain": [
              "False"
            ]
          },
          "metadata": {
            "tags": []
          },
          "execution_count": 17
        }
      ]
    },
    {
      "cell_type": "code",
      "metadata": {
        "id": "zinI9W8hswfH",
        "colab_type": "code",
        "outputId": "d96f8a78-6ca1-464c-d7cc-b86de76c8297",
        "colab": {
          "base_uri": "https://localhost:8080/",
          "height": 34
        }
      },
      "source": [
        "np.all(a == a)"
      ],
      "execution_count": 18,
      "outputs": [
        {
          "output_type": "execute_result",
          "data": {
            "text/plain": [
              "True"
            ]
          },
          "metadata": {
            "tags": []
          },
          "execution_count": 18
        }
      ]
    },
    {
      "cell_type": "code",
      "metadata": {
        "id": "HuTF_mToswfL",
        "colab_type": "code",
        "outputId": "7af8d2b2-a640-41c4-fa85-5afa1b56f07a",
        "colab": {
          "base_uri": "https://localhost:8080/",
          "height": 34
        }
      },
      "source": [
        "a = np.array([1, 2, 3, 2])\n",
        "b = np.array([2, 2, 3, 2])\n",
        "c = np.array([6, 4, 4, 5])\n",
        "((a <= b) & (b <= c)).all()"
      ],
      "execution_count": 19,
      "outputs": [
        {
          "output_type": "execute_result",
          "data": {
            "text/plain": [
              "True"
            ]
          },
          "metadata": {
            "tags": []
          },
          "execution_count": 19
        }
      ]
    },
    {
      "cell_type": "markdown",
      "metadata": {
        "id": "APsZAg7_swfO",
        "colab_type": "text"
      },
      "source": [
        "**Statistics**"
      ]
    },
    {
      "cell_type": "code",
      "metadata": {
        "id": "cjoteMjGswfP",
        "colab_type": "code",
        "outputId": "8e4144fc-b654-45ef-ba7b-38cfa9d373bb",
        "colab": {
          "base_uri": "https://localhost:8080/",
          "height": 34
        }
      },
      "source": [
        "x = np.array([1, 2, 3, 1])\n",
        "y = np.array([[1, 2, 3], [5, 6, 1]])\n",
        "x.mean()"
      ],
      "execution_count": 20,
      "outputs": [
        {
          "output_type": "execute_result",
          "data": {
            "text/plain": [
              "1.75"
            ]
          },
          "metadata": {
            "tags": []
          },
          "execution_count": 20
        }
      ]
    },
    {
      "cell_type": "code",
      "metadata": {
        "id": "JXWE8ldfswfV",
        "colab_type": "code",
        "outputId": "07819ca9-20e8-4d3e-fa29-31999e2eb4a4",
        "colab": {
          "base_uri": "https://localhost:8080/",
          "height": 34
        }
      },
      "source": [
        "np.median(x)"
      ],
      "execution_count": 21,
      "outputs": [
        {
          "output_type": "execute_result",
          "data": {
            "text/plain": [
              "1.5"
            ]
          },
          "metadata": {
            "tags": []
          },
          "execution_count": 21
        }
      ]
    },
    {
      "cell_type": "code",
      "metadata": {
        "id": "uiBhX8Ktswfj",
        "colab_type": "code",
        "outputId": "bbe87a75-d0f5-468b-fbc7-9c1fe82dc802",
        "colab": {
          "base_uri": "https://localhost:8080/",
          "height": 34
        }
      },
      "source": [
        "np.median(y, axis=-1) # last axis"
      ],
      "execution_count": 22,
      "outputs": [
        {
          "output_type": "execute_result",
          "data": {
            "text/plain": [
              "array([2., 5.])"
            ]
          },
          "metadata": {
            "tags": []
          },
          "execution_count": 22
        }
      ]
    },
    {
      "cell_type": "code",
      "metadata": {
        "id": "Cy3p6_0nswfo",
        "colab_type": "code",
        "outputId": "c5d0c05d-b628-4ef2-a96a-f25cf91e25a4",
        "colab": {
          "base_uri": "https://localhost:8080/",
          "height": 34
        }
      },
      "source": [
        "x.std()          # full population standard dev."
      ],
      "execution_count": 23,
      "outputs": [
        {
          "output_type": "execute_result",
          "data": {
            "text/plain": [
              "0.82915619758885"
            ]
          },
          "metadata": {
            "tags": []
          },
          "execution_count": 23
        }
      ]
    },
    {
      "cell_type": "markdown",
      "metadata": {
        "id": "UmJ61pVXswfu",
        "colab_type": "text"
      },
      "source": [
        "**Example:**"
      ]
    },
    {
      "cell_type": "markdown",
      "metadata": {
        "id": "anUWifpEswfx",
        "colab_type": "text"
      },
      "source": [
        "Data in populations.txt describes the populations of hares and lynxes (and carrots) in northern Canada during 20 years.\n"
      ]
    },
    {
      "cell_type": "code",
      "metadata": {
        "id": "rnVBTztnswfy",
        "colab_type": "code",
        "colab": {}
      },
      "source": [
        "#load data into numpy array object\n",
        "data = np.loadtxt('populations.txt')"
      ],
      "execution_count": 0,
      "outputs": []
    },
    {
      "cell_type": "markdown",
      "metadata": {
        "id": "Tst-YW8tTOKl",
        "colab_type": "text"
      },
      "source": [
        "# New Section"
      ]
    },
    {
      "cell_type": "code",
      "metadata": {
        "id": "P6namKkVswf1",
        "colab_type": "code",
        "outputId": "b78b757f-b3c2-40fb-862d-cbe3f3c0f2b7",
        "colab": {
          "base_uri": "https://localhost:8080/",
          "height": 374
        }
      },
      "source": [
        "data"
      ],
      "execution_count": 26,
      "outputs": [
        {
          "output_type": "execute_result",
          "data": {
            "text/plain": [
              "array([[ 1900., 30000.,  4000., 48300.],\n",
              "       [ 1901., 47200.,  6100., 48200.],\n",
              "       [ 1902., 70200.,  9800., 41500.],\n",
              "       [ 1903., 77400., 35200., 38200.],\n",
              "       [ 1904., 36300., 59400., 40600.],\n",
              "       [ 1905., 20600., 41700., 39800.],\n",
              "       [ 1906., 18100., 19000., 38600.],\n",
              "       [ 1907., 21400., 13000., 42300.],\n",
              "       [ 1908., 22000.,  8300., 44500.],\n",
              "       [ 1909., 25400.,  9100., 42100.],\n",
              "       [ 1910., 27100.,  7400., 46000.],\n",
              "       [ 1911., 40300.,  8000., 46800.],\n",
              "       [ 1912., 57000., 12300., 43800.],\n",
              "       [ 1913., 76600., 19500., 40900.],\n",
              "       [ 1914., 52300., 45700., 39400.],\n",
              "       [ 1915., 19500., 51100., 39000.],\n",
              "       [ 1916., 11200., 29700., 36700.],\n",
              "       [ 1917.,  7600., 15800., 41800.],\n",
              "       [ 1918., 14600.,  9700., 43300.],\n",
              "       [ 1919., 16200., 10100., 41300.],\n",
              "       [ 1920., 24700.,  8600., 47300.]])"
            ]
          },
          "metadata": {
            "tags": []
          },
          "execution_count": 26
        }
      ]
    },
    {
      "cell_type": "code",
      "metadata": {
        "id": "QmlBep1Mswf5",
        "colab_type": "code",
        "outputId": "00f25b3f-c78b-4638-e7a6-5de3e4d0016d",
        "colab": {
          "base_uri": "https://localhost:8080/",
          "height": 51
        }
      },
      "source": [
        "year, hares, lynxes, carrots = data.T #columns to variables\n",
        "print(year)"
      ],
      "execution_count": 27,
      "outputs": [
        {
          "output_type": "stream",
          "text": [
            "[1900. 1901. 1902. 1903. 1904. 1905. 1906. 1907. 1908. 1909. 1910. 1911.\n",
            " 1912. 1913. 1914. 1915. 1916. 1917. 1918. 1919. 1920.]\n"
          ],
          "name": "stdout"
        }
      ]
    },
    {
      "cell_type": "code",
      "metadata": {
        "id": "rK1BKEoyswgD",
        "colab_type": "code",
        "outputId": "ea0da597-5311-4bbe-a935-0256d4639889",
        "colab": {
          "base_uri": "https://localhost:8080/",
          "height": 374
        }
      },
      "source": [
        "#The mean population over time\n",
        "populations = data[:, 1:]\n",
        "populations"
      ],
      "execution_count": 28,
      "outputs": [
        {
          "output_type": "execute_result",
          "data": {
            "text/plain": [
              "array([[30000.,  4000., 48300.],\n",
              "       [47200.,  6100., 48200.],\n",
              "       [70200.,  9800., 41500.],\n",
              "       [77400., 35200., 38200.],\n",
              "       [36300., 59400., 40600.],\n",
              "       [20600., 41700., 39800.],\n",
              "       [18100., 19000., 38600.],\n",
              "       [21400., 13000., 42300.],\n",
              "       [22000.,  8300., 44500.],\n",
              "       [25400.,  9100., 42100.],\n",
              "       [27100.,  7400., 46000.],\n",
              "       [40300.,  8000., 46800.],\n",
              "       [57000., 12300., 43800.],\n",
              "       [76600., 19500., 40900.],\n",
              "       [52300., 45700., 39400.],\n",
              "       [19500., 51100., 39000.],\n",
              "       [11200., 29700., 36700.],\n",
              "       [ 7600., 15800., 41800.],\n",
              "       [14600.,  9700., 43300.],\n",
              "       [16200., 10100., 41300.],\n",
              "       [24700.,  8600., 47300.]])"
            ]
          },
          "metadata": {
            "tags": []
          },
          "execution_count": 28
        }
      ]
    },
    {
      "cell_type": "code",
      "metadata": {
        "id": "x9fl1SFuswgI",
        "colab_type": "code",
        "outputId": "9cda421e-717e-448d-d57a-93862fe69bd2",
        "colab": {
          "base_uri": "https://localhost:8080/",
          "height": 34
        }
      },
      "source": [
        "#sample standard deviations\n",
        "populations.std(axis=0)"
      ],
      "execution_count": 30,
      "outputs": [
        {
          "output_type": "execute_result",
          "data": {
            "text/plain": [
              "array([20897.90645809, 16254.59153691,  3322.50622558])"
            ]
          },
          "metadata": {
            "tags": []
          },
          "execution_count": 30
        }
      ]
    },
    {
      "cell_type": "code",
      "metadata": {
        "id": "JuRAVBQZswgT",
        "colab_type": "code",
        "outputId": "71be45fc-6092-452e-953f-bfa3d5cefb17",
        "colab": {
          "base_uri": "https://localhost:8080/",
          "height": 34
        }
      },
      "source": [
        "#which species has the highest population each year?\n",
        "\n",
        "np.argmax(populations, axis=1)"
      ],
      "execution_count": 31,
      "outputs": [
        {
          "output_type": "execute_result",
          "data": {
            "text/plain": [
              "array([2, 2, 0, 0, 1, 1, 2, 2, 2, 2, 2, 2, 0, 0, 0, 1, 2, 2, 2, 2, 2])"
            ]
          },
          "metadata": {
            "tags": []
          },
          "execution_count": 31
        }
      ]
    },
    {
      "cell_type": "markdown",
      "metadata": {
        "id": "tU_ZXk-TswgY",
        "colab_type": "text"
      },
      "source": [
        "# Broadcasting"
      ]
    },
    {
      "cell_type": "markdown",
      "metadata": {
        "id": "9YhDQLkMswga",
        "colab_type": "text"
      },
      "source": [
        "Basic operations on numpy arrays (addition, etc.) are elementwise\n",
        "\n",
        "This works on arrays of the same size.\n",
        "    Nevertheless, It’s also possible to do operations on arrays of different sizes if NumPy can transform these arrays     so that they all have the same size: this conversion is called broadcasting.\n",
        "\n",
        "The image below gives an example of broadcasting:"
      ]
    },
    {
      "cell_type": "markdown",
      "metadata": {
        "id": "ikjmauQzswgc",
        "colab_type": "text"
      },
      "source": [
        "![title](broadcasting.png)"
      ]
    },
    {
      "cell_type": "code",
      "metadata": {
        "id": "nI5avDtJswgd",
        "colab_type": "code",
        "outputId": "7e9ab97c-2a61-44fc-d688-499c5bd59229",
        "colab": {
          "base_uri": "https://localhost:8080/",
          "height": 153
        }
      },
      "source": [
        "a = np.tile(np.arange(0, 40, 10), (3,1))\n",
        "print(a)\n",
        "\n",
        "print(\"*************\")\n",
        "a=a.T\n",
        "print(a)"
      ],
      "execution_count": 33,
      "outputs": [
        {
          "output_type": "stream",
          "text": [
            "[[ 0 10 20 30]\n",
            " [ 0 10 20 30]\n",
            " [ 0 10 20 30]]\n",
            "*************\n",
            "[[ 0  0  0]\n",
            " [10 10 10]\n",
            " [20 20 20]\n",
            " [30 30 30]]\n"
          ],
          "name": "stdout"
        }
      ]
    },
    {
      "cell_type": "code",
      "metadata": {
        "id": "cLIID2BSswgf",
        "colab_type": "code",
        "outputId": "e61697e9-d3e7-4dfd-8ba3-b629c12eaf85",
        "colab": {
          "base_uri": "https://localhost:8080/",
          "height": 34
        }
      },
      "source": [
        "\n",
        "b = np.array([0, 1, 2])\n",
        "b"
      ],
      "execution_count": 34,
      "outputs": [
        {
          "output_type": "execute_result",
          "data": {
            "text/plain": [
              "array([0, 1, 2])"
            ]
          },
          "metadata": {
            "tags": []
          },
          "execution_count": 34
        }
      ]
    },
    {
      "cell_type": "code",
      "metadata": {
        "id": "jQrV3eHlswgh",
        "colab_type": "code",
        "outputId": "a8b21a23-2cf4-4bf6-c41a-210f86000f5c",
        "colab": {
          "base_uri": "https://localhost:8080/",
          "height": 85
        }
      },
      "source": [
        "\n",
        "a + b"
      ],
      "execution_count": 35,
      "outputs": [
        {
          "output_type": "execute_result",
          "data": {
            "text/plain": [
              "array([[ 0,  1,  2],\n",
              "       [10, 11, 12],\n",
              "       [20, 21, 22],\n",
              "       [30, 31, 32]])"
            ]
          },
          "metadata": {
            "tags": []
          },
          "execution_count": 35
        }
      ]
    },
    {
      "cell_type": "code",
      "metadata": {
        "id": "O46UzhDpswgj",
        "colab_type": "code",
        "outputId": "e2fdbd8e-3498-4996-b684-a9ab9d769873",
        "colab": {
          "base_uri": "https://localhost:8080/",
          "height": 34
        }
      },
      "source": [
        "a = np.arange(0, 40, 10)\n",
        "a.shape\n"
      ],
      "execution_count": 36,
      "outputs": [
        {
          "output_type": "execute_result",
          "data": {
            "text/plain": [
              "(4,)"
            ]
          },
          "metadata": {
            "tags": []
          },
          "execution_count": 36
        }
      ]
    },
    {
      "cell_type": "code",
      "metadata": {
        "id": "OgkzL1i9swgl",
        "colab_type": "code",
        "outputId": "38d3da04-5126-46a5-a5d6-e710982d0cbe",
        "colab": {
          "base_uri": "https://localhost:8080/",
          "height": 34
        }
      },
      "source": [
        "a = a[:, np.newaxis]  # adds a new axis -> 2D array\n",
        "a.shape"
      ],
      "execution_count": 41,
      "outputs": [
        {
          "output_type": "execute_result",
          "data": {
            "text/plain": [
              "(4, 1)"
            ]
          },
          "metadata": {
            "tags": []
          },
          "execution_count": 41
        }
      ]
    },
    {
      "cell_type": "code",
      "metadata": {
        "id": "PQiWxq-6swgq",
        "colab_type": "code",
        "outputId": "6cb61768-e5a3-4756-eacf-2015fda36654",
        "colab": {
          "base_uri": "https://localhost:8080/",
          "height": 85
        }
      },
      "source": [
        "a"
      ],
      "execution_count": 42,
      "outputs": [
        {
          "output_type": "execute_result",
          "data": {
            "text/plain": [
              "array([[ 0],\n",
              "       [10],\n",
              "       [20],\n",
              "       [30]])"
            ]
          },
          "metadata": {
            "tags": []
          },
          "execution_count": 42
        }
      ]
    },
    {
      "cell_type": "code",
      "metadata": {
        "id": "tsUMMhVMswgw",
        "colab_type": "code",
        "outputId": "b579905c-8d92-4e27-c951-63334fb28b4c",
        "colab": {
          "base_uri": "https://localhost:8080/",
          "height": 85
        }
      },
      "source": [
        "a + b"
      ],
      "execution_count": 43,
      "outputs": [
        {
          "output_type": "execute_result",
          "data": {
            "text/plain": [
              "array([[ 0,  1,  2],\n",
              "       [10, 11, 12],\n",
              "       [20, 21, 22],\n",
              "       [30, 31, 32]])"
            ]
          },
          "metadata": {
            "tags": []
          },
          "execution_count": 43
        }
      ]
    },
    {
      "cell_type": "markdown",
      "metadata": {
        "id": "j_PyiHoLswgz",
        "colab_type": "text"
      },
      "source": [
        "# Array Shape Manipulation"
      ]
    },
    {
      "cell_type": "markdown",
      "metadata": {
        "id": "k_PleE7Tswgz",
        "colab_type": "text"
      },
      "source": [
        "**Flattening**"
      ]
    },
    {
      "cell_type": "code",
      "metadata": {
        "id": "ZCNm05mWswg0",
        "colab_type": "code",
        "outputId": "144ea165-65a7-4f75-f795-f69b51ed567f",
        "colab": {
          "base_uri": "https://localhost:8080/",
          "height": 34
        }
      },
      "source": [
        "a = np.array([[1, 2, 3], [4, 5, 6]])\n",
        "a.ravel() #Return a contiguous flattened array. A 1-D array, containing the elements of the input, is returned. A copy is made only if needed."
      ],
      "execution_count": 44,
      "outputs": [
        {
          "output_type": "execute_result",
          "data": {
            "text/plain": [
              "array([1, 2, 3, 4, 5, 6])"
            ]
          },
          "metadata": {
            "tags": []
          },
          "execution_count": 44
        }
      ]
    },
    {
      "cell_type": "code",
      "metadata": {
        "id": "vDHkkj_Cswg2",
        "colab_type": "code",
        "outputId": "a640f83d-bc22-4418-e95d-2f9c71c93752",
        "colab": {
          "base_uri": "https://localhost:8080/",
          "height": 68
        }
      },
      "source": [
        "a.T #Transpose"
      ],
      "execution_count": 45,
      "outputs": [
        {
          "output_type": "execute_result",
          "data": {
            "text/plain": [
              "array([[1, 4],\n",
              "       [2, 5],\n",
              "       [3, 6]])"
            ]
          },
          "metadata": {
            "tags": []
          },
          "execution_count": 45
        }
      ]
    },
    {
      "cell_type": "code",
      "metadata": {
        "id": "OQwnB4jMswg7",
        "colab_type": "code",
        "outputId": "c1fb1ca7-e80d-4109-a420-b1f7363b45f4",
        "colab": {
          "base_uri": "https://localhost:8080/",
          "height": 34
        }
      },
      "source": [
        "a.T.ravel()"
      ],
      "execution_count": 46,
      "outputs": [
        {
          "output_type": "execute_result",
          "data": {
            "text/plain": [
              "array([1, 4, 2, 5, 3, 6])"
            ]
          },
          "metadata": {
            "tags": []
          },
          "execution_count": 46
        }
      ]
    },
    {
      "cell_type": "markdown",
      "metadata": {
        "id": "IfyMcSqWswhA",
        "colab_type": "text"
      },
      "source": [
        "**Reshaping**"
      ]
    },
    {
      "cell_type": "markdown",
      "metadata": {
        "id": "QcaiZZ7mswhA",
        "colab_type": "text"
      },
      "source": [
        "The inverse operation to flattening:"
      ]
    },
    {
      "cell_type": "code",
      "metadata": {
        "id": "MA6cntc9swhC",
        "colab_type": "code",
        "outputId": "374e6073-a66f-4f56-c547-2535c958dfe1",
        "colab": {
          "base_uri": "https://localhost:8080/",
          "height": 68
        }
      },
      "source": [
        "print(a.shape)\n",
        "print(a)"
      ],
      "execution_count": 47,
      "outputs": [
        {
          "output_type": "stream",
          "text": [
            "(2, 3)\n",
            "[[1 2 3]\n",
            " [4 5 6]]\n"
          ],
          "name": "stdout"
        }
      ]
    },
    {
      "cell_type": "code",
      "metadata": {
        "id": "hhJauR24swhE",
        "colab_type": "code",
        "outputId": "d6b4be8d-7eb4-45db-f3d5-4d66dd0a7423",
        "colab": {
          "base_uri": "https://localhost:8080/",
          "height": 34
        }
      },
      "source": [
        "b = a.ravel()\n",
        "print(b)"
      ],
      "execution_count": 48,
      "outputs": [
        {
          "output_type": "stream",
          "text": [
            "[1 2 3 4 5 6]\n"
          ],
          "name": "stdout"
        }
      ]
    },
    {
      "cell_type": "code",
      "metadata": {
        "id": "vXbnz73uswhG",
        "colab_type": "code",
        "outputId": "9b51da9f-f70b-4ccb-e8b2-1f6b33b5ebd8",
        "colab": {
          "base_uri": "https://localhost:8080/",
          "height": 51
        }
      },
      "source": [
        "b = b.reshape((2, 3))\n",
        "b"
      ],
      "execution_count": 49,
      "outputs": [
        {
          "output_type": "execute_result",
          "data": {
            "text/plain": [
              "array([[1, 2, 3],\n",
              "       [4, 5, 6]])"
            ]
          },
          "metadata": {
            "tags": []
          },
          "execution_count": 49
        }
      ]
    },
    {
      "cell_type": "code",
      "metadata": {
        "id": "TNr-WvUzswhI",
        "colab_type": "code",
        "outputId": "c72de007-20d0-4742-8376-dea1ba139397",
        "colab": {
          "base_uri": "https://localhost:8080/",
          "height": 51
        }
      },
      "source": [
        "b[0, 0] = 100\n",
        "a"
      ],
      "execution_count": 50,
      "outputs": [
        {
          "output_type": "execute_result",
          "data": {
            "text/plain": [
              "array([[100,   2,   3],\n",
              "       [  4,   5,   6]])"
            ]
          },
          "metadata": {
            "tags": []
          },
          "execution_count": 50
        }
      ]
    },
    {
      "cell_type": "markdown",
      "metadata": {
        "id": "_Y5EeOeJswhL",
        "colab_type": "text"
      },
      "source": [
        "**Note and       Beware: reshape may also return a copy!:**"
      ]
    },
    {
      "cell_type": "code",
      "metadata": {
        "id": "tf1F72vHswhL",
        "colab_type": "code",
        "outputId": "dacb1b14-73d6-4268-d9a0-50e150d2e4d4",
        "colab": {
          "base_uri": "https://localhost:8080/",
          "height": 68
        }
      },
      "source": [
        "a = np.zeros((3, 2))\n",
        "b = a.T.reshape(3*2)\n",
        "b[0] = 50\n",
        "a"
      ],
      "execution_count": 52,
      "outputs": [
        {
          "output_type": "execute_result",
          "data": {
            "text/plain": [
              "array([[0., 0.],\n",
              "       [0., 0.],\n",
              "       [0., 0.]])"
            ]
          },
          "metadata": {
            "tags": []
          },
          "execution_count": 52
        }
      ]
    },
    {
      "cell_type": "markdown",
      "metadata": {
        "id": "4pnFgWaTswhO",
        "colab_type": "text"
      },
      "source": [
        "**Adding a Dimension**"
      ]
    },
    {
      "cell_type": "markdown",
      "metadata": {
        "id": "b3x7GDphswhP",
        "colab_type": "text"
      },
      "source": [
        "Indexing with the np.newaxis object allows us to add an axis to an array"
      ]
    },
    {
      "cell_type": "markdown",
      "metadata": {
        "id": "zWZFOfB0swhP",
        "colab_type": "text"
      },
      "source": [
        "newaxis is used to increase the dimension of the existing array by one more dimension, when used once. Thus,\n",
        "\n",
        "1D array will become 2D array\n",
        "\n",
        "2D array will become 3D array\n",
        "\n",
        "3D array will become 4D array and so on"
      ]
    },
    {
      "cell_type": "code",
      "metadata": {
        "id": "DuHUdNLoswhP",
        "colab_type": "code",
        "outputId": "1a52dda9-3c66-4462-ad13-5fc614b69a6e",
        "colab": {
          "base_uri": "https://localhost:8080/",
          "height": 34
        }
      },
      "source": [
        "z = np.array([1, 2, 3])\n",
        "z"
      ],
      "execution_count": 53,
      "outputs": [
        {
          "output_type": "execute_result",
          "data": {
            "text/plain": [
              "array([1, 2, 3])"
            ]
          },
          "metadata": {
            "tags": []
          },
          "execution_count": 53
        }
      ]
    },
    {
      "cell_type": "code",
      "metadata": {
        "id": "f48pj0JMswhT",
        "colab_type": "code",
        "outputId": "093c33d0-8b37-4d34-d966-9d3510c9db29",
        "colab": {
          "base_uri": "https://localhost:8080/",
          "height": 68
        }
      },
      "source": [
        "z[:, np.newaxis]"
      ],
      "execution_count": 54,
      "outputs": [
        {
          "output_type": "execute_result",
          "data": {
            "text/plain": [
              "array([[1],\n",
              "       [2],\n",
              "       [3]])"
            ]
          },
          "metadata": {
            "tags": []
          },
          "execution_count": 54
        }
      ]
    },
    {
      "cell_type": "markdown",
      "metadata": {
        "id": "Wy-2k9NjswhW",
        "colab_type": "text"
      },
      "source": [
        "**Dimension Shuffling**"
      ]
    },
    {
      "cell_type": "code",
      "metadata": {
        "id": "MSTSN5IoswhZ",
        "colab_type": "code",
        "outputId": "eff1c907-0af7-49de-87fe-7fccdb0950a6",
        "colab": {
          "base_uri": "https://localhost:8080/",
          "height": 34
        }
      },
      "source": [
        "a = np.arange(4*3*2).reshape(4, 3, 2)\n",
        "a.shape"
      ],
      "execution_count": 55,
      "outputs": [
        {
          "output_type": "execute_result",
          "data": {
            "text/plain": [
              "(4, 3, 2)"
            ]
          },
          "metadata": {
            "tags": []
          },
          "execution_count": 55
        }
      ]
    },
    {
      "cell_type": "code",
      "metadata": {
        "id": "-i_qw-2Bswhd",
        "colab_type": "code",
        "outputId": "c1afe484-3767-4445-9068-51b0f4ff8e44",
        "colab": {
          "base_uri": "https://localhost:8080/",
          "height": 272
        }
      },
      "source": [
        "a"
      ],
      "execution_count": 56,
      "outputs": [
        {
          "output_type": "execute_result",
          "data": {
            "text/plain": [
              "array([[[ 0,  1],\n",
              "        [ 2,  3],\n",
              "        [ 4,  5]],\n",
              "\n",
              "       [[ 6,  7],\n",
              "        [ 8,  9],\n",
              "        [10, 11]],\n",
              "\n",
              "       [[12, 13],\n",
              "        [14, 15],\n",
              "        [16, 17]],\n",
              "\n",
              "       [[18, 19],\n",
              "        [20, 21],\n",
              "        [22, 23]]])"
            ]
          },
          "metadata": {
            "tags": []
          },
          "execution_count": 56
        }
      ]
    },
    {
      "cell_type": "code",
      "metadata": {
        "id": "sFfdpnwxswhg",
        "colab_type": "code",
        "outputId": "0736751a-ec1c-444d-a26a-135f6202abef",
        "colab": {
          "base_uri": "https://localhost:8080/",
          "height": 34
        }
      },
      "source": [
        "a[0, 2, 1]"
      ],
      "execution_count": 57,
      "outputs": [
        {
          "output_type": "execute_result",
          "data": {
            "text/plain": [
              "5"
            ]
          },
          "metadata": {
            "tags": []
          },
          "execution_count": 57
        }
      ]
    },
    {
      "cell_type": "markdown",
      "metadata": {
        "id": "2lFLuLyjswhk",
        "colab_type": "text"
      },
      "source": [
        "**Resizing**"
      ]
    },
    {
      "cell_type": "code",
      "metadata": {
        "id": "Yi9xEsTdswhl",
        "colab_type": "code",
        "outputId": "1133393a-3a7e-43de-e98c-77bfad0b89d1",
        "colab": {
          "base_uri": "https://localhost:8080/",
          "height": 34
        }
      },
      "source": [
        "a = np.arange(4)\n",
        "a.resize((8,))\n",
        "a"
      ],
      "execution_count": 58,
      "outputs": [
        {
          "output_type": "execute_result",
          "data": {
            "text/plain": [
              "array([0, 1, 2, 3, 0, 0, 0, 0])"
            ]
          },
          "metadata": {
            "tags": []
          },
          "execution_count": 58
        }
      ]
    },
    {
      "cell_type": "markdown",
      "metadata": {
        "id": "L32_TKH-swhp",
        "colab_type": "text"
      },
      "source": [
        "However, it must not be referred to somewhere else:"
      ]
    },
    {
      "cell_type": "code",
      "metadata": {
        "id": "n03o_7jKswhq",
        "colab_type": "code",
        "outputId": "591c6728-d9cd-439f-8287-fce70a25ea2a",
        "colab": {}
      },
      "source": [
        "b = a\n",
        "a.resize((4,)) "
      ],
      "execution_count": 0,
      "outputs": [
        {
          "output_type": "error",
          "ename": "ValueError",
          "evalue": "cannot resize an array that references or is referenced\nby another array in this way.  Use the resize function",
          "traceback": [
            "\u001b[0;31m---------------------------------------------------------------------------\u001b[0m",
            "\u001b[0;31mValueError\u001b[0m                                Traceback (most recent call last)",
            "\u001b[0;32m<ipython-input-68-702766c88583>\u001b[0m in \u001b[0;36m<module>\u001b[0;34m()\u001b[0m\n\u001b[1;32m      1\u001b[0m \u001b[0mb\u001b[0m \u001b[0;34m=\u001b[0m \u001b[0ma\u001b[0m\u001b[0;34m\u001b[0m\u001b[0m\n\u001b[0;32m----> 2\u001b[0;31m \u001b[0ma\u001b[0m\u001b[0;34m.\u001b[0m\u001b[0mresize\u001b[0m\u001b[0;34m(\u001b[0m\u001b[0;34m(\u001b[0m\u001b[0;36m4\u001b[0m\u001b[0;34m,\u001b[0m\u001b[0;34m)\u001b[0m\u001b[0;34m)\u001b[0m\u001b[0;34m\u001b[0m\u001b[0m\n\u001b[0m",
            "\u001b[0;31mValueError\u001b[0m: cannot resize an array that references or is referenced\nby another array in this way.  Use the resize function"
          ]
        }
      ]
    },
    {
      "cell_type": "markdown",
      "metadata": {
        "id": "xm598Xkxswhs",
        "colab_type": "text"
      },
      "source": [
        "**Sorting Data**"
      ]
    },
    {
      "cell_type": "code",
      "metadata": {
        "id": "iM9Y-4wfswhs",
        "colab_type": "code",
        "outputId": "b13bda7a-44d6-4bf6-c74b-589c5511ed26",
        "colab": {
          "base_uri": "https://localhost:8080/",
          "height": 51
        }
      },
      "source": [
        "#Sorting along an axis:\n",
        "a = np.array([[5, 4, 6], [2, 3, 2]])\n",
        "b = np.sort(a, axis=1)\n",
        "b"
      ],
      "execution_count": 60,
      "outputs": [
        {
          "output_type": "execute_result",
          "data": {
            "text/plain": [
              "array([[4, 5, 6],\n",
              "       [2, 2, 3]])"
            ]
          },
          "metadata": {
            "tags": []
          },
          "execution_count": 60
        }
      ]
    },
    {
      "cell_type": "code",
      "metadata": {
        "id": "Z8gWeYynswhw",
        "colab_type": "code",
        "outputId": "434f1f96-73b1-4b9e-b185-90ab615e1ee5",
        "colab": {
          "base_uri": "https://localhost:8080/",
          "height": 51
        }
      },
      "source": [
        "#in-place sort\n",
        "a.sort(axis=1)\n",
        "a"
      ],
      "execution_count": 61,
      "outputs": [
        {
          "output_type": "execute_result",
          "data": {
            "text/plain": [
              "array([[4, 5, 6],\n",
              "       [2, 2, 3]])"
            ]
          },
          "metadata": {
            "tags": []
          },
          "execution_count": 61
        }
      ]
    },
    {
      "cell_type": "code",
      "metadata": {
        "id": "DSSbH76aswh1",
        "colab_type": "code",
        "outputId": "3e030d30-f0c1-4061-9536-79bef32a9afd",
        "colab": {
          "base_uri": "https://localhost:8080/",
          "height": 34
        }
      },
      "source": [
        "#sorting with fancy indexing\n",
        "a = np.array([4, 3, 1, 2])\n",
        "j = np.argsort(a)\n",
        "j"
      ],
      "execution_count": 62,
      "outputs": [
        {
          "output_type": "execute_result",
          "data": {
            "text/plain": [
              "array([2, 3, 1, 0])"
            ]
          },
          "metadata": {
            "tags": []
          },
          "execution_count": 62
        }
      ]
    },
    {
      "cell_type": "code",
      "metadata": {
        "id": "CtBWBS5Qswh3",
        "colab_type": "code",
        "outputId": "7516f0e8-dd01-4af6-a97a-c96230d69c5f",
        "colab": {
          "base_uri": "https://localhost:8080/",
          "height": 34
        }
      },
      "source": [
        "a[j]"
      ],
      "execution_count": 63,
      "outputs": [
        {
          "output_type": "execute_result",
          "data": {
            "text/plain": [
              "array([1, 2, 3, 4])"
            ]
          },
          "metadata": {
            "tags": []
          },
          "execution_count": 63
        }
      ]
    }
  ]
}